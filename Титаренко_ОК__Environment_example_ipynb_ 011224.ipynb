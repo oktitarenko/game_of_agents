{
  "nbformat": 4,
  "nbformat_minor": 0,
  "metadata": {
    "colab": {
      "provenance": []
    },
    "kernelspec": {
      "name": "python3",
      "display_name": "Python 3"
    },
    "language_info": {
      "name": "python"
    }
  },
  "cells": [
    {
      "cell_type": "code",
      "execution_count": 30,
      "metadata": {
        "id": "MXXTuy_o0sjk"
      },
      "outputs": [],
      "source": [
        "!pip install -q -U kaggle_environments"
      ]
    },
    {
      "cell_type": "code",
      "source": [
        "import random\n",
        "import os\n",
        "import numpy as np\n",
        "import pandas as pd\n",
        "\n",
        "import matplotlib.pyplot as plt\n",
        "import seaborn as sns\n",
        "\n",
        "from kaggle_environments import make, evaluate"
      ],
      "metadata": {
        "id": "yz23vWHD0wcj"
      },
      "execution_count": 31,
      "outputs": []
    },
    {
      "cell_type": "markdown",
      "source": [
        "Опишем поведение агента, всегда играющего \"камень\" - это значение 0"
      ],
      "metadata": {
        "id": "0kuo6IOxiRub"
      }
    },
    {
      "cell_type": "code",
      "source": [
        "%%writefile rock_agent.py\n",
        "\n",
        "#Example of the simple agent\n",
        "#0 - rock\n",
        "#1 - paper\n",
        "#2 - scissors\n",
        "def your_agent(observation, configuration):\n",
        "    return 0"
      ],
      "metadata": {
        "id": "bqTqV7B92rJ6",
        "outputId": "7a1cb493-a093-4ca4-ef61-d06de79ab8c9",
        "colab": {
          "base_uri": "https://localhost:8080/"
        }
      },
      "execution_count": 32,
      "outputs": [
        {
          "output_type": "stream",
          "name": "stdout",
          "text": [
            "Overwriting rock_agent.py\n"
          ]
        }
      ]
    },
    {
      "cell_type": "markdown",
      "source": [
        "Попробуем теперь использовать информацию о прошлых действиях противника. Опишем агента, который производит то же самое действие, что и оппонент на прошлом ходу"
      ],
      "metadata": {
        "id": "et1J5hUGigeh"
      }
    },
    {
      "cell_type": "code",
      "source": [
        "%%writefile copy_opponent.py\n",
        "\n",
        "#Example\n",
        "def copy_opponent(observation, configuration):\n",
        "    #in case we have information about opponent last move\n",
        "    if observation.step > 0:\n",
        "        return observation.lastOpponentAction\n",
        "    #initial step\n",
        "    else:\n",
        "        return random.randrange(0, configuration.signs)"
      ],
      "metadata": {
        "id": "7l6Ttw6qi0jk",
        "outputId": "5ae7d557-233b-4721-b28d-83c30de440dc",
        "colab": {
          "base_uri": "https://localhost:8080/"
        }
      },
      "execution_count": 33,
      "outputs": [
        {
          "output_type": "stream",
          "name": "stdout",
          "text": [
            "Overwriting copy_opponent.py\n"
          ]
        }
      ]
    },
    {
      "cell_type": "markdown",
      "source": [
        "Воспользуемся функцией evaluate из библиотеки kaggle_environments с помощью которой запустим наших агентов и проведем эксперимент на заданном количестве игр"
      ],
      "metadata": {
        "id": "ExgIpXUVjbjN"
      }
    },
    {
      "cell_type": "code",
      "source": [
        "evaluate(\n",
        "    \"rps\", #environment to use - no need to change\n",
        "    [\"rock_agent.py\", \"copy_opponent.py\"], #agents to evaluate\n",
        "    configuration={\"episodeSteps\": 100} #number of episodes\n",
        ")"
      ],
      "metadata": {
        "id": "wv6Ip6M004xa",
        "outputId": "f6cff9f3-80d7-4b7a-a237-c315d1d9dacf",
        "colab": {
          "base_uri": "https://localhost:8080/"
        }
      },
      "execution_count": 34,
      "outputs": [
        {
          "output_type": "execute_result",
          "data": {
            "text/plain": [
              "[[1, None]]"
            ]
          },
          "metadata": {},
          "execution_count": 34
        }
      ]
    },
    {
      "cell_type": "code",
      "source": [
        "evaluate(\n",
        "    \"rps\", #environment to use - no need to change\n",
        "    [\"rock_agent.py\", \"paper\"], #agents to evaluate\n",
        "    configuration={\"episodeSteps\": 100} #number of episodes\n",
        ")"
      ],
      "metadata": {
        "id": "FC6_QWe9k3rr",
        "outputId": "cf1a1342-5080-432d-c27e-61b8e80f79e3",
        "colab": {
          "base_uri": "https://localhost:8080/"
        }
      },
      "execution_count": 35,
      "outputs": [
        {
          "output_type": "execute_result",
          "data": {
            "text/plain": [
              "[[-99.0, 99.0]]"
            ]
          },
          "metadata": {},
          "execution_count": 35
        }
      ]
    },
    {
      "cell_type": "code",
      "source": [
        "%%writefile paper_agent.py\n",
        "\n",
        "# №1 агент всегда выбирает бумагу\n",
        "#0 - rock\n",
        "#1 - paper\n",
        "#2 - scissors\n",
        "def your_agent(observation, configuration):\n",
        "    return 1"
      ],
      "metadata": {
        "id": "bEZiBTywm7Px",
        "colab": {
          "base_uri": "https://localhost:8080/"
        },
        "outputId": "0403c276-c866-4744-be90-09e405a54c13"
      },
      "execution_count": 36,
      "outputs": [
        {
          "output_type": "stream",
          "name": "stdout",
          "text": [
            "Overwriting paper_agent.py\n"
          ]
        }
      ]
    },
    {
      "cell_type": "code",
      "source": [
        "%%writefile scissors_agent.py\n",
        "\n",
        "# №2 агент всегда выбирает ножницы\n",
        "#0 - rock\n",
        "#1 - paper\n",
        "#2 - scissors\n",
        "def your_agent(observation, configuration):\n",
        "    return 2"
      ],
      "metadata": {
        "colab": {
          "base_uri": "https://localhost:8080/"
        },
        "id": "MKuhzw758sbS",
        "outputId": "592cfb8b-1cd2-4e16-d059-0f871ddeba82"
      },
      "execution_count": 37,
      "outputs": [
        {
          "output_type": "stream",
          "name": "stdout",
          "text": [
            "Overwriting scissors_agent.py\n"
          ]
        }
      ]
    },
    {
      "cell_type": "code",
      "source": [
        "%%writefile random_agent.py\n",
        "\n",
        "# №3 агент выбирает случайный ход\n",
        "#0 - rock\n",
        "#1 - paper\n",
        "#2 - scissors\n",
        "def your_agent(observation, configuration):\n",
        "    return random.randrange(0, configuration.signs)"
      ],
      "metadata": {
        "colab": {
          "base_uri": "https://localhost:8080/"
        },
        "id": "ZMOTcEH19N_x",
        "outputId": "a845907b-ecb1-436e-f8ab-b6ab10072bf0"
      },
      "execution_count": 38,
      "outputs": [
        {
          "output_type": "stream",
          "name": "stdout",
          "text": [
            "Overwriting random_agent.py\n"
          ]
        }
      ]
    },
    {
      "cell_type": "code",
      "source": [
        "%%writefile cycle_agent.py\n",
        "\n",
        "# введение переменной для фиксации последнего хода\n",
        "last_action = -1\n",
        "\n",
        "# №4 агент выбирает ходы в циклическом порядке 0 - 1 - 2\n",
        "def your_agent(observation, configuration):\n",
        "    global last_action\n",
        "    last_action = (last_action + 1) % 3\n",
        "    return last_action"
      ],
      "metadata": {
        "colab": {
          "base_uri": "https://localhost:8080/"
        },
        "id": "GcZc3hOH-Mg9",
        "outputId": "5b64f5b3-ef30-4e49-824a-06e15ac7e0ed"
      },
      "execution_count": 39,
      "outputs": [
        {
          "output_type": "stream",
          "name": "stdout",
          "text": [
            "Overwriting cycle_agent.py\n"
          ]
        }
      ]
    },
    {
      "cell_type": "code",
      "source": [
        "%%writefile win_opponent.py\n",
        "\n",
        "# №5 агент выбирает ход, который бьет предыдущий ход противника\n",
        "def win_opponent(observation, configuration):\n",
        "    # действие, если это не первый розыгрыш\n",
        "    if observation.step > 0:\n",
        "        # записываем последний ход противника\n",
        "        last_opponent_action = observation.lastOpponentAction\n",
        "        # выбираем ход, который побеждает предыдущий ход противника и сбрасываем его\n",
        "        return (last_opponent_action + 1) % configuration.signs\n",
        "    else:\n",
        "        # действие, если это первый розыгрыш - выбираем случайный ход\n",
        "        return random.randrange(0, configuration.signs)"
      ],
      "metadata": {
        "colab": {
          "base_uri": "https://localhost:8080/"
        },
        "id": "LGhVc2N0-eUr",
        "outputId": "34d8443e-dbdf-4011-eb00-4eb973ad43f4"
      },
      "execution_count": 40,
      "outputs": [
        {
          "output_type": "stream",
          "name": "stdout",
          "text": [
            "Overwriting win_opponent.py\n"
          ]
        }
      ]
    },
    {
      "cell_type": "code",
      "source": [
        "%%writefile sequence_agent.py\n",
        "\n",
        "# №6 агент, повторяющий последовательность 0, 2, 2\n",
        "#0 - rock\n",
        "#1 - paper\n",
        "#2 - scissors\n",
        "def sequence_agent(observation, configuration):\n",
        "    # введение переменной для определения последовательности\n",
        "    sequence = [0, 2, 2]\n",
        "    # выбираем текущий ход на основе номера шага (поделим номер шага на длину последовательности)\n",
        "    return sequence[observation.step % len(sequence)]"
      ],
      "metadata": {
        "colab": {
          "base_uri": "https://localhost:8080/"
        },
        "id": "s8xqgv0SAdoK",
        "outputId": "549a4727-0989-49b4-b8e2-ecbd078d0d4b"
      },
      "execution_count": 41,
      "outputs": [
        {
          "output_type": "stream",
          "name": "stdout",
          "text": [
            "Overwriting sequence_agent.py\n"
          ]
        }
      ]
    },
    {
      "cell_type": "code",
      "source": [
        "%%writefile sequence_agent2.py\n",
        "\n",
        "# №7 агент, повторяющий последовательность 2, 0, 1, 0, 2\n",
        "#0 - rock\n",
        "#1 - paper\n",
        "#2 - scissors\n",
        "def sequence_agent2(observation, configuration):\n",
        "    # введение переменной для определения последовательности\n",
        "    sequence = [2, 0, 1, 0, 2]\n",
        "    # выбираем текущий ход на основе номера шага (поделим номер шага на длину последовательности)\n",
        "    return sequence[observation.step % len(sequence)]"
      ],
      "metadata": {
        "colab": {
          "base_uri": "https://localhost:8080/"
        },
        "id": "QDCewFUvD9mc",
        "outputId": "8090ccd7-c12a-4f2b-a64f-7cbb3015d72c"
      },
      "execution_count": 42,
      "outputs": [
        {
          "output_type": "stream",
          "name": "stdout",
          "text": [
            "Overwriting sequence_agent2.py\n"
          ]
        }
      ]
    },
    {
      "cell_type": "code",
      "source": [
        "%%writefile self_win_agent.py\n",
        "\n",
        "# введение переменной для фиксации последнего хода\n",
        "last_action1 = -1\n",
        "\n",
        "# №8 агент выбирает ход, побеждающий его собственный предыдущий\n",
        "def self_win_agent(observation, configuration):\n",
        "    # используем переменную для хранения последнего хода\n",
        "    global last_action1\n",
        "\n",
        "    # если это первый розыгрыш - выбираем случайный ход\n",
        "    if observation.step == 0:\n",
        "        last_action1 = random.randrange(0, configuration.signs)\n",
        "    else:\n",
        "        # если розыгрыш не первый, то выбираем \"жест\", побеждающий свой предыдущий ход\n",
        "        last_action1 = (last_action1 + 1) % configuration.signs\n",
        "\n",
        "    return last_action1"
      ],
      "metadata": {
        "colab": {
          "base_uri": "https://localhost:8080/"
        },
        "id": "GVZzsR-2EIHp",
        "outputId": "1dbd356a-cbd0-4a3d-8773-e927a49ee952"
      },
      "execution_count": 43,
      "outputs": [
        {
          "output_type": "stream",
          "name": "stdout",
          "text": [
            "Overwriting self_win_agent.py\n"
          ]
        }
      ]
    },
    {
      "cell_type": "code",
      "source": [
        "%%writefile probability_agent.py\n",
        "\n",
        "# №9 агент, который запоминает историю ходов соперника и расчитывает вероятности, основываясь на которой выбирает оптимальный \"жест\"\n",
        "def probability_agent(observation, configuration):\n",
        "    # если первый розыгрыш\n",
        "    if observation.step == 0:\n",
        "        # то создаем массив для подсчета частот ходов соперника\n",
        "        global opponent_moves_count\n",
        "        opponent_moves_count = [0] * configuration.signs\n",
        "    else:\n",
        "        # далее по ходам увеличиваем счетчик последнего хода соперника\n",
        "        opponent_moves_count[observation.lastOpponentAction] += 1\n",
        "\n",
        "    # вычисляем вероятность каждого \"жеста\" соперника\n",
        "    total_moves = sum(opponent_moves_count)\n",
        "    probabilities = [count / total_moves for count in opponent_moves_count]\n",
        "\n",
        "    # выбираем \"жест\", который побеждает наиболее вероятный \"жест\" соперника\n",
        "    most_probable_action = probabilities.index(max(probabilities))\n",
        "    best_response = (most_probable_action + 1) % configuration.signs\n",
        "\n",
        "    return best_response"
      ],
      "metadata": {
        "colab": {
          "base_uri": "https://localhost:8080/"
        },
        "id": "5Na7W_O-FLUA",
        "outputId": "e55a1a66-968a-48bd-db82-b99c319fbfa7"
      },
      "execution_count": 44,
      "outputs": [
        {
          "output_type": "stream",
          "name": "stdout",
          "text": [
            "Overwriting probability_agent.py\n"
          ]
        }
      ]
    },
    {
      "cell_type": "code",
      "source": [
        "%%writefile weighted_random_agent.py\n",
        "\n",
        "# №10 агент выбирает жесты  в соответствии с заданными вероятностями\n",
        "def weighted_random_agent(observation, configuration):\n",
        "    # указываем вероятности для каждого жеста\n",
        "    probabilities = [0.3, 0.2, 0.5]  # 30% камень, 20% бумага, 50% ножницы\n",
        "\n",
        "    # используем random.choices для выбора на основе вероятностей\n",
        "    return random.choices(population=[0, 1, 2], weights=probabilities, k=1)[0]\n"
      ],
      "metadata": {
        "colab": {
          "base_uri": "https://localhost:8080/"
        },
        "id": "UzLN59RLHl3U",
        "outputId": "ced8d10e-8732-448c-9f04-18c306c7ff62"
      },
      "execution_count": 45,
      "outputs": [
        {
          "output_type": "stream",
          "name": "stdout",
          "text": [
            "Overwriting weighted_random_agent.py\n"
          ]
        }
      ]
    },
    {
      "cell_type": "code",
      "source": [
        "%%writefile time_based_agent.py\n",
        "\n",
        "import time\n",
        "\n",
        "# №11 агент выбирает ход на основе последней цифры системного времени\n",
        "def time_based_agent(observation, configuration):\n",
        "    # получаем текущее время в секундах\n",
        "    current_time = time.time()\n",
        "\n",
        "    # отсекаем и записываем в переменную последнюю цифру текущего времени (в секундах)\n",
        "    last_digit = int(str(int(current_time))[-1])\n",
        "\n",
        "    # делим последнюю цифру на 3 и выбираем ход в зависимости от остатка\n",
        "    return last_digit % 3\n"
      ],
      "metadata": {
        "colab": {
          "base_uri": "https://localhost:8080/"
        },
        "id": "2U4p6TXxJ-BE",
        "outputId": "0d33c7fa-2975-49d0-8520-d713dc8430f9"
      },
      "execution_count": 46,
      "outputs": [
        {
          "output_type": "stream",
          "name": "stdout",
          "text": [
            "Overwriting time_based_agent.py\n"
          ]
        }
      ]
    },
    {
      "cell_type": "code",
      "source": [
        "%%writefile repeat_winner_agent.py\n",
        "\n",
        "# №12 агент, который посторяет \"жест\" победителя\n",
        "def repeat_winner_agent(observation, configuration):\n",
        "    # если первый розыгрыш, то выбираем рандомный \"жест\"\n",
        "    if observation.step == 0:\n",
        "        return random.randrange(0, configuration.signs)\n",
        "\n",
        "    # определяем, кто выиграл в предыдущем ходе\n",
        "    # выигравший: 0 - камень, 1 - бумага, 2 - ножницы\n",
        "    # определяем победителя по результату предыдущего хода\n",
        "    if observation.lastRoundWinner == 0:\n",
        "        # если победил первый игрок, агент выбирает его \"жест\"\n",
        "        return observation.lastOpponentAction\n",
        "    else:\n",
        "        # если победил второй игрок, агент выбирает его \"жест\"\n",
        "        return observation.lastOpponentAction\n"
      ],
      "metadata": {
        "colab": {
          "base_uri": "https://localhost:8080/"
        },
        "id": "M_hY0H4KKjkq",
        "outputId": "1bc26ce6-50d4-4e26-886a-23b6a867957d"
      },
      "execution_count": 47,
      "outputs": [
        {
          "output_type": "stream",
          "name": "stdout",
          "text": [
            "Overwriting repeat_winner_agent.py\n"
          ]
        }
      ]
    },
    {
      "cell_type": "code",
      "source": [
        "# создадим список с наименованиеями всех агентов (для случаев, когда наименование оканчивается на .py - включить в список)\n",
        "agents = [case for case in os.listdir() if case.endswith(\".py\")]\n",
        "print(agents)"
      ],
      "metadata": {
        "colab": {
          "base_uri": "https://localhost:8080/"
        },
        "id": "cJfnXXfaM0W5",
        "outputId": "049b71c4-9452-42c5-de3f-522f04df9deb"
      },
      "execution_count": 48,
      "outputs": [
        {
          "output_type": "stream",
          "name": "stdout",
          "text": [
            "['paper_agent.py', 'self_win_agent.py', 'time_based_agent.py', 'copy_opponent.py', 'rock_agent.py', 'random_agent.py', 'cycle_agent.py', 'repeat_winner_agent.py', 'weighted_random_agent.py', 'sequence_agent2.py', 'win_opponent.py', 'probability_agent.py', 'sequence_agent.py', 'scissors_agent.py']\n"
          ]
        }
      ]
    },
    {
      "cell_type": "code",
      "source": [
        "# создадим словарь, содержащий настройки турнира\n",
        "tournament = {\"episodeSteps\": 100}  # задаем число сбросов в паре агентов\n",
        "\n",
        "# создаем словарь для подсчёта побед\n",
        "win_count = {agent: 0 for agent in agents}\n",
        "\n",
        "# создаем список для хранения результатов игр\n",
        "game_results = []\n",
        "\n",
        "# запускаем порядок игр\n",
        "# перебираем всех агентов в списке, где i - индекс первого агента, а agent1 - имя первого агента в текущей паре\n",
        "for i, agent1 in enumerate(agents):\n",
        "    # перебираем всех агентов в списке для создания пары, где j - индекс второго агента, а agent2 - имя второго агента в текущей паре\n",
        "    for j, agent2 in enumerate(agents):\n",
        "        # введем условие для избегания повторных пар и предотвращения игры с самим собой\n",
        "        if i < j:\n",
        "            # запускаем игру между двумя выбранными агентами с указанными настройками турнира\n",
        "            result = evaluate(\"rps\", [agent1, agent2], configuration=tournament)\n",
        "\n",
        "            # считаем колво очков (результат функции evaluate)\n",
        "            score1, score2 = result[0]  # очки первого и второго агентов\n",
        "\n",
        "            # введем проверку для избегания операций с None, если одно из значений равно None то присваивем проигрыш\n",
        "            if score1 is None or score2 is None:\n",
        "                if score1 is None:\n",
        "                    score1 = 0\n",
        "                if score2 is None:\n",
        "                    score2 = 0\n",
        "\n",
        "            # определяем победителя, если score1 больше score2, тогда выигрывает агент1, если наоброт, то агент2, если же иная ситуация - то ничья\n",
        "            if score1 > score2:\n",
        "                winner = agent1\n",
        "            elif score2 > score1:\n",
        "                winner = agent2\n",
        "            else:\n",
        "                winner = \"ничья\"\n",
        "\n",
        "            # записываем результаты игры в словарь\n",
        "            game_results.append({\n",
        "                \"agent1\": agent1,\n",
        "                \"agent2\": agent2,\n",
        "                \"score1\": score1,\n",
        "                \"score2\": score2,\n",
        "                \"winner\": winner\n",
        "            })\n",
        "\n",
        "            # увеличиваем счётчик побед, добавив +1 победившему агенту в словарь win_count, а если ничья - то не производим действия\n",
        "            if winner != \"ничья\":\n",
        "                win_count[winner] += 1\n"
      ],
      "metadata": {
        "id": "iUdbAT0wLVfA"
      },
      "execution_count": 49,
      "outputs": []
    },
    {
      "cell_type": "code",
      "source": [
        "\n",
        "# выведем статистику\n",
        "print(\"\\nРезультаты игр между агентами:\")\n",
        "for game in game_results:\n",
        "    # выводим словари-результаты, записанные в список game_results\n",
        "    print(\n",
        "        f\"{game['agent1']} против {game['agent2']}, \"\n",
        "        f\"Счет: {game['score1']} - {game['score2']}, \"\n",
        "        f\"Победитель: {game['winner']}\"\n",
        "    )"
      ],
      "metadata": {
        "colab": {
          "base_uri": "https://localhost:8080/"
        },
        "id": "3XrO3qkysAuN",
        "outputId": "7b423d27-5d43-4bcd-f39d-73e457827ecc"
      },
      "execution_count": 50,
      "outputs": [
        {
          "output_type": "stream",
          "name": "stdout",
          "text": [
            "\n",
            "Результаты игр между агентами:\n",
            "paper_agent.py против self_win_agent.py, Счет: 1 - 0, Победитель: paper_agent.py\n",
            "paper_agent.py против time_based_agent.py, Счет: 99.0 - -99.0, Победитель: paper_agent.py\n",
            "paper_agent.py против copy_opponent.py, Счет: 1 - 0, Победитель: paper_agent.py\n",
            "paper_agent.py против rock_agent.py, Счет: 99.0 - -99.0, Победитель: paper_agent.py\n",
            "paper_agent.py против random_agent.py, Счет: 1 - 0, Победитель: paper_agent.py\n",
            "paper_agent.py против cycle_agent.py, Счет: 0 - 0, Победитель: ничья\n",
            "paper_agent.py против repeat_winner_agent.py, Счет: 1 - 0, Победитель: paper_agent.py\n",
            "paper_agent.py против weighted_random_agent.py, Счет: 1 - 0, Победитель: paper_agent.py\n",
            "paper_agent.py против sequence_agent2.py, Счет: 0 - 0, Победитель: ничья\n",
            "paper_agent.py против win_opponent.py, Счет: 1 - 0, Победитель: paper_agent.py\n",
            "paper_agent.py против probability_agent.py, Счет: 1 - 0, Победитель: paper_agent.py\n",
            "paper_agent.py против sequence_agent.py, Счет: -33.0 - 33.0, Победитель: sequence_agent.py\n",
            "paper_agent.py против scissors_agent.py, Счет: -99.0 - 99.0, Победитель: scissors_agent.py\n",
            "self_win_agent.py против time_based_agent.py, Счет: 0 - 1, Победитель: time_based_agent.py\n",
            "self_win_agent.py против copy_opponent.py, Счет: 0 - 0, Победитель: ничья\n",
            "self_win_agent.py против rock_agent.py, Счет: 0 - 1, Победитель: rock_agent.py\n",
            "self_win_agent.py против random_agent.py, Счет: 0 - 0, Победитель: ничья\n",
            "self_win_agent.py против cycle_agent.py, Счет: 0 - 1, Победитель: cycle_agent.py\n",
            "self_win_agent.py против repeat_winner_agent.py, Счет: 0 - 0, Победитель: ничья\n",
            "self_win_agent.py против weighted_random_agent.py, Счет: 0 - 0, Победитель: ничья\n",
            "self_win_agent.py против sequence_agent2.py, Счет: 0 - 1, Победитель: sequence_agent2.py\n",
            "self_win_agent.py против win_opponent.py, Счет: 0 - 0, Победитель: ничья\n",
            "self_win_agent.py против probability_agent.py, Счет: 0 - 0, Победитель: ничья\n",
            "self_win_agent.py против sequence_agent.py, Счет: 0 - 1, Победитель: sequence_agent.py\n",
            "self_win_agent.py против scissors_agent.py, Счет: 0 - 1, Победитель: scissors_agent.py\n",
            "time_based_agent.py против copy_opponent.py, Счет: 1 - 0, Победитель: time_based_agent.py\n",
            "time_based_agent.py против rock_agent.py, Счет: -99.0 - 99.0, Победитель: rock_agent.py\n",
            "time_based_agent.py против random_agent.py, Счет: 1 - 0, Победитель: time_based_agent.py\n",
            "time_based_agent.py против cycle_agent.py, Счет: 0 - 0, Победитель: ничья\n",
            "time_based_agent.py против repeat_winner_agent.py, Счет: 1 - 0, Победитель: time_based_agent.py\n",
            "time_based_agent.py против weighted_random_agent.py, Счет: 1 - 0, Победитель: time_based_agent.py\n",
            "time_based_agent.py против sequence_agent2.py, Счет: -20.0 - 20.0, Победитель: sequence_agent2.py\n",
            "time_based_agent.py против win_opponent.py, Счет: 1 - 0, Победитель: time_based_agent.py\n",
            "time_based_agent.py против probability_agent.py, Счет: 1 - 0, Победитель: time_based_agent.py\n",
            "time_based_agent.py против sequence_agent.py, Счет: 66.0 - -66.0, Победитель: time_based_agent.py\n",
            "time_based_agent.py против scissors_agent.py, Счет: 99.0 - -99.0, Победитель: time_based_agent.py\n",
            "copy_opponent.py против rock_agent.py, Счет: 0 - 1, Победитель: rock_agent.py\n",
            "copy_opponent.py против random_agent.py, Счет: 0 - 0, Победитель: ничья\n",
            "copy_opponent.py против cycle_agent.py, Счет: 0 - 1, Победитель: cycle_agent.py\n",
            "copy_opponent.py против repeat_winner_agent.py, Счет: 0 - 0, Победитель: ничья\n",
            "copy_opponent.py против weighted_random_agent.py, Счет: 0 - 0, Победитель: ничья\n",
            "copy_opponent.py против sequence_agent2.py, Счет: 0 - 1, Победитель: sequence_agent2.py\n",
            "copy_opponent.py против win_opponent.py, Счет: 0 - 0, Победитель: ничья\n",
            "copy_opponent.py против probability_agent.py, Счет: 0 - 0, Победитель: ничья\n",
            "copy_opponent.py против sequence_agent.py, Счет: 0 - 1, Победитель: sequence_agent.py\n",
            "copy_opponent.py против scissors_agent.py, Счет: 0 - 1, Победитель: scissors_agent.py\n",
            "rock_agent.py против random_agent.py, Счет: 1 - 0, Победитель: rock_agent.py\n",
            "rock_agent.py против cycle_agent.py, Счет: 0 - 0, Победитель: ничья\n",
            "rock_agent.py против repeat_winner_agent.py, Счет: 1 - 0, Победитель: rock_agent.py\n",
            "rock_agent.py против weighted_random_agent.py, Счет: 1 - 0, Победитель: rock_agent.py\n",
            "rock_agent.py против sequence_agent2.py, Счет: 0 - 0, Победитель: ничья\n",
            "rock_agent.py против win_opponent.py, Счет: 1 - 0, Победитель: rock_agent.py\n",
            "rock_agent.py против probability_agent.py, Счет: 1 - 0, Победитель: rock_agent.py\n",
            "rock_agent.py против sequence_agent.py, Счет: 66.0 - -66.0, Победитель: rock_agent.py\n",
            "rock_agent.py против scissors_agent.py, Счет: 99.0 - -99.0, Победитель: rock_agent.py\n",
            "random_agent.py против cycle_agent.py, Счет: 0 - 1, Победитель: cycle_agent.py\n",
            "random_agent.py против repeat_winner_agent.py, Счет: 0 - 0, Победитель: ничья\n",
            "random_agent.py против weighted_random_agent.py, Счет: 0 - 0, Победитель: ничья\n",
            "random_agent.py против sequence_agent2.py, Счет: 0 - 1, Победитель: sequence_agent2.py\n",
            "random_agent.py против win_opponent.py, Счет: 0 - 0, Победитель: ничья\n",
            "random_agent.py против probability_agent.py, Счет: 0 - 0, Победитель: ничья\n",
            "random_agent.py против sequence_agent.py, Счет: 0 - 1, Победитель: sequence_agent.py\n",
            "random_agent.py против scissors_agent.py, Счет: 0 - 1, Победитель: scissors_agent.py\n",
            "cycle_agent.py против repeat_winner_agent.py, Счет: 1 - 0, Победитель: cycle_agent.py\n",
            "cycle_agent.py против weighted_random_agent.py, Счет: 1 - 0, Победитель: cycle_agent.py\n",
            "cycle_agent.py против sequence_agent2.py, Счет: 0 - 0, Победитель: ничья\n",
            "cycle_agent.py против win_opponent.py, Счет: 1 - 0, Победитель: cycle_agent.py\n",
            "cycle_agent.py против probability_agent.py, Счет: 1 - 0, Победитель: cycle_agent.py\n",
            "cycle_agent.py против sequence_agent.py, Счет: -33.0 - 33.0, Победитель: sequence_agent.py\n",
            "cycle_agent.py против scissors_agent.py, Счет: 0 - 0, Победитель: ничья\n",
            "repeat_winner_agent.py против weighted_random_agent.py, Счет: 0 - 0, Победитель: ничья\n",
            "repeat_winner_agent.py против sequence_agent2.py, Счет: 0 - 1, Победитель: sequence_agent2.py\n",
            "repeat_winner_agent.py против win_opponent.py, Счет: 0 - 0, Победитель: ничья\n",
            "repeat_winner_agent.py против probability_agent.py, Счет: 0 - 0, Победитель: ничья\n",
            "repeat_winner_agent.py против sequence_agent.py, Счет: 0 - 1, Победитель: sequence_agent.py\n",
            "repeat_winner_agent.py против scissors_agent.py, Счет: 0 - 1, Победитель: scissors_agent.py\n",
            "weighted_random_agent.py против sequence_agent2.py, Счет: 0 - 1, Победитель: sequence_agent2.py\n",
            "weighted_random_agent.py против win_opponent.py, Счет: 0 - 0, Победитель: ничья\n",
            "weighted_random_agent.py против probability_agent.py, Счет: 0 - 0, Победитель: ничья\n",
            "weighted_random_agent.py против sequence_agent.py, Счет: 0 - 1, Победитель: sequence_agent.py\n",
            "weighted_random_agent.py против scissors_agent.py, Счет: 0 - 1, Победитель: scissors_agent.py\n",
            "sequence_agent2.py против win_opponent.py, Счет: 1 - 0, Победитель: sequence_agent2.py\n",
            "sequence_agent2.py против probability_agent.py, Счет: 1 - 0, Победитель: sequence_agent2.py\n",
            "sequence_agent2.py против sequence_agent.py, Счет: 0 - 0, Победитель: ничья\n",
            "sequence_agent2.py против scissors_agent.py, Счет: 20.0 - -20.0, Победитель: sequence_agent2.py\n",
            "win_opponent.py против probability_agent.py, Счет: 0 - 0, Победитель: ничья\n",
            "win_opponent.py против sequence_agent.py, Счет: 0 - 1, Победитель: sequence_agent.py\n",
            "win_opponent.py против scissors_agent.py, Счет: 0 - 1, Победитель: scissors_agent.py\n",
            "probability_agent.py против sequence_agent.py, Счет: 0 - 1, Победитель: sequence_agent.py\n",
            "probability_agent.py против scissors_agent.py, Счет: 0 - 1, Победитель: scissors_agent.py\n",
            "sequence_agent.py против scissors_agent.py, Счет: 33.0 - -33.0, Победитель: sequence_agent.py\n"
          ]
        }
      ]
    },
    {
      "cell_type": "code",
      "source": [
        "\n",
        "# ранжируем список подсчета побед\n",
        "sorted_win_count = sorted(win_count.items(), key=lambda x: x[1], reverse=True)\n",
        "\n",
        "# выводим итоговый список подсчета побед\n",
        "print(\"\\nИтоговое количество побед каждого агента:\")\n",
        "for agent, wins in sorted_win_count:\n",
        "    print(f\"{agent}: {wins} побед\")"
      ],
      "metadata": {
        "colab": {
          "base_uri": "https://localhost:8080/"
        },
        "id": "WF4cLXyvsGZc",
        "outputId": "ad2dc6a7-3cbb-47db-c852-3c7598943de7"
      },
      "execution_count": 51,
      "outputs": [
        {
          "output_type": "stream",
          "name": "stdout",
          "text": [
            "\n",
            "Итоговое количество побед каждого агента:\n",
            "rock_agent.py: 10 побед\n",
            "sequence_agent.py: 10 побед\n",
            "paper_agent.py: 9 побед\n",
            "time_based_agent.py: 9 побед\n",
            "sequence_agent2.py: 9 побед\n",
            "scissors_agent.py: 8 побед\n",
            "cycle_agent.py: 7 побед\n",
            "self_win_agent.py: 0 побед\n",
            "copy_opponent.py: 0 побед\n",
            "random_agent.py: 0 побед\n",
            "repeat_winner_agent.py: 0 побед\n",
            "weighted_random_agent.py: 0 побед\n",
            "win_opponent.py: 0 побед\n",
            "probability_agent.py: 0 побед\n"
          ]
        }
      ]
    },
    {
      "cell_type": "code",
      "source": [],
      "metadata": {
        "id": "O3-a-5aEsIVo"
      },
      "execution_count": null,
      "outputs": []
    }
  ]
}